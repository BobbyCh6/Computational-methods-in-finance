{
 "cells": [
  {
   "cell_type": "markdown",
   "metadata": {},
   "source": [
    "## assignment 3\n"
   ]
  },
  {
   "cell_type": "markdown",
   "metadata": {},
   "source": [
    "\n",
    "### Exercise 1\n",
    "1. Define your own function in Python that implements a Monte Carlo estimator for estimating $C_0$ and returns a Monte Carlo approximation for $C_0$, together with an asymptotic 95\\% confidence interval (see page 30 of Lecture note). \n",
    "2. Compare your results to the analytical results obtained by using the Black-Scholes option pricing formula implemented in Worksheet 1. "
   ]
  },
  {
   "cell_type": "markdown",
   "metadata": {},
   "source": [
    "### Solution - Exercise 1\n",
    "\n",
    "We first import all modules that we use in this notebook. Note that BlackScholes_Analytical is our own module that contains an implementation of the Black-Scholes option pricing formula (see BlackScholes_Analytical.py). "
   ]
  },
  {
   "cell_type": "code",
   "execution_count": 1,
   "metadata": {},
   "outputs": [],
   "source": [
    "import numpy as np\n",
    "import matplotlib.pyplot as plt\n",
    "from scipy.stats import norm\n",
    "import time\n"
   ]
  },
  {
   "cell_type": "code",
   "execution_count": 2,
   "metadata": {},
   "outputs": [],
   "source": [
    "rng = np.random.default_rng(12345)"
   ]
  },
  {
   "cell_type": "code",
   "execution_count": 3,
   "metadata": {},
   "outputs": [],
   "source": [
    "def terminal_stockprice(rng, s0, t, r, sigma, samplesize):\n",
    "    \"\"\"\n",
    "    Function generates terminal stock price in Black-Scholes model.\n",
    "\n",
    "    Parameters\n",
    "    ----------\n",
    "    rng : random._generator.Generator\n",
    "        Generator object of numpy for generating random numbers\n",
    "    s0 : float\n",
    "        Initial stock price.\n",
    "    t : float\n",
    "        Terminal time at which stock price is generated.\n",
    "    r : float\n",
    "        Riskless interest rate.\n",
    "    sigma : float\n",
    "        Volatility.\n",
    "    samplesize : int\n",
    "        Sample size, i.e., number of times terminal stock price is generated.\n",
    "\n",
    "    Returns\n",
    "    -------\n",
    "    stockprice : array\n",
    "        Sample of terminal stock price in Black Scholes model.\n",
    "\n",
    "    \"\"\"\n",
    "    mystandardnormalsample = rng.standard_normal(size=samplesize)\n",
    "    tmp1 = (r - 0.5*(sigma ** 2)) * t\n",
    "    tmp2 = sigma * np.sqrt(t) * mystandardnormalsample\n",
    "    stockprice = s0 * np.exp(tmp1 + tmp2)\n",
    "    return stockprice"
   ]
  },
  {
   "cell_type": "code",
   "execution_count": 4,
   "metadata": {
    "scrolled": true
   },
   "outputs": [
    {
     "data": {
      "image/png": "[encoded data removed]",
      "text/plain": [
       "<Figure size 432x288 with 1 Axes>"
      ]
     },
     "metadata": {
      "needs_background": "light"
     },
     "output_type": "display_data"
    }
   ],
   "source": [
    "# Plotting a histogram of the terminal stock price\n",
    "mystockprice = terminal_stockprice(rng, s0=100, t=1, r=0.02, sigma=0.3,\n",
    "                                   samplesize=100000)\n",
    "fig, ax = plt.subplots(nrows=1, ncols=1)\n",
    "ax.hist(mystockprice, bins=100)\n",
    "ax.set_ylabel(\"Frequency\")\n",
    "ax.set_xlabel(\"$S_T$\")\n",
    "ax.set_title(\"Histogram of simulated $S_T$\")\n",
    "plt.show()"
   ]
  },
  {
   "cell_type": "code",
   "execution_count": 5,
   "metadata": {},
   "outputs": [],
   "source": [
    "def bs_call_mc(rng, s0, k, t, r, sigma, samplesize, myepsilon):\n",
    "    \"\"\"\n",
    "    Function computes time-0 price of European call price in Black-Scholes\n",
    "    model by Monte Carlo.\n",
    "\n",
    "    Parameters\n",
    "    ----------\n",
    "    rng : random._generator.Generator\n",
    "        Generator object of numpy for generating random numbers\n",
    "    s0 : float\n",
    "        Initial stock price.\n",
    "    t : float\n",
    "        Terminal time at which stock price is generated.\n",
    "    r : float\n",
    "        Riskless interest rate.\n",
    "    sigma : float\n",
    "        Volatility.\n",
    "    samplesize : int\n",
    "        Sample size, i.e., number of times terminal stock price is generated.\n",
    "    myepsilon : float\n",
    "        1 - myepsilon is level of confidence for CI interval.\n",
    "\n",
    "    Returns\n",
    "    -------\n",
    "    price : float\n",
    "        Time-0 price of European call option in BS-model based on Monte Carlo.\n",
    "    standarddev : float\n",
    "        Standard deviation of random variable representing discounted payoff.\n",
    "    ci_left : float\n",
    "        Left boundary of 1-myepsilon confidence interval.\n",
    "    ci_right : float\n",
    "        Right boundary of 1-myepsilon confidence interval.\n",
    "    \"\"\"\n",
    "    # Generate terminal stock prices.\n",
    "    mystockprice = terminal_stockprice(rng, s0, t, r, sigma, samplesize)\n",
    "    # Compute payoffs.\n",
    "    payoffs = np.maximum(mystockprice - k, 0)\n",
    "    # Discount payoffs\n",
    "    discountedpayoffs = np.exp(- r * t)*payoffs\n",
    "    # Compute MC price\n",
    "    price = np.mean(discountedpayoffs)\n",
    "    # Compute confidence interval next\n",
    "    standarddev_rv = np.std(discountedpayoffs, ddof=1)\n",
    "    standarddev_mcest = standarddev_rv / np.sqrt(samplesize)\n",
    "    aepsilon = norm.ppf(1.0 - myepsilon * 0.5)\n",
    "    # Left boundary of CI\n",
    "    ci_left = price - aepsilon * standarddev_mcest\n",
    "    # Right boundary of CI\n",
    "    ci_right = price + aepsilon * standarddev_mcest\n",
    "    return price, standarddev_mcest, ci_left, ci_right"
   ]
  },
  {
   "cell_type": "code",
   "execution_count": 6,
   "metadata": {},
   "outputs": [],
   "source": [
    "# Defining some model parameters\n",
    "S0 = 50.0\n",
    "K = 50.0\n",
    "T = 0.25\n",
    "R = 0.05\n",
    "Sigma = 0.3\n",
    "Samplesize = 100000\n",
    "Myepsilon = 0.05\n",
    "mydig = 6"
   ]
  },
  {
   "cell_type": "code",
   "execution_count": 7,
   "metadata": {},
   "outputs": [],
   "source": [
    "def black_scholes_call(st, t, k, T, r, sigma):\n",
    "    d1 = (np.log(st / k) + (r + 0.5 * sigma**2) * (T-t))/(sigma * np.sqrt(T-t))\n",
    "    d2 = d1 - sigma * np.sqrt(T-t)\n",
    "    tmp1 = st * norm.cdf(d1, loc=0, scale=1)\n",
    "    tmp2 = k * np.exp(-r *(T-t)) * norm.cdf(d2, loc=0, scale=1)\n",
    "    price = tmp1 - tmp2\n",
    "    return price"
   ]
  },
  {
   "cell_type": "code",
   "execution_count": 8,
   "metadata": {},
   "outputs": [
    {
     "name": "stdout",
     "output_type": "stream",
     "text": [
      "Analytical price:  3.291542\n",
      "----------------\n",
      "MC price:  3.289196 , stdev of MC est:  0.011158\n",
      "CI based on MC is ( 3.267327 ,  3.311065 ). \n"
     ]
    }
   ],
   "source": [
    "myprice = black_scholes_call(S0, 0, K, T, R, Sigma)\n",
    "print(\"Analytical price: \", round(myprice, mydig))\n",
    "print(\"----------------\")\n",
    "MCresults = bs_call_mc(rng, S0, K, T, R, Sigma, 2*Samplesize, Myepsilon)\n",
    "print(\"MC price: \", round(MCresults[0], mydig), \", stdev of MC est: \",\n",
    "      round(MCresults[1], mydig))\n",
    "print(\"CI based on MC is (\", round(MCresults[2], mydig), \", \",\n",
    "      round(MCresults[3], mydig), \"). \")"
   ]
  },
  {
   "cell_type": "markdown",
   "metadata": {},
   "source": [
    "Hence, we see that the MC price is very close to the analytical price. Here, for this specific realisation of random variables the confidence interval based on the MC estimator contains the analytical price. "
   ]
  },
  {
   "cell_type": "markdown",
   "metadata": {},
   "source": [
    "### Exercise 2 \n",
    "1. Write Python code that implements an  antithetic variates estimator for $C_0$ using the antithetic pair $(X, -X)$ where  $X\\sim \\mathcal{N}_1(0, 1)$. \n",
    "2. Write Python code that computes the variance of your antithetic variate estimator. \n",
    "\n",
    "### Solution - Exercise 2\n",
    "\n",
    "We consider the antithetic pair $(X, -X)$ where  $X\\sim \\mathcal{N}_1(0, 1)$. For the stock price this implies that we consider pairs of the form $(S^{(1)}, S^{(2)})$, where\n",
    "\\begin{align*}\n",
    "S^{(1)} & = S_0 \\exp( (r - 0.5 \\sigma^2) T + \\sigma \\sqrt{T} X), \\\\\n",
    "S^{(2)} & = S_0 \\exp( (r - 0.5 \\sigma^2) T + \\sigma \\sqrt{T} (-X)) \n",
    "\\end{align*}\n",
    "and we will use them to compute the corresponding discounted payoffs. \n"
   ]
  },
  {
   "cell_type": "code",
   "execution_count": 9,
   "metadata": {},
   "outputs": [],
   "source": [
    "def terminal_stockprice_av(rng, s0, t, r, sigma, samplesize):\n",
    "    \"\"\"Function computes terminal stock prices based on antithetic pairs. \"\"\"\n",
    "    mynormals1 = rng.standard_normal(samplesize)\n",
    "    mynormals2 = - mynormals1\n",
    "    tmp1 = (r - 0.5*sigma ** 2) * t\n",
    "    tmp2 = sigma * np.sqrt(t) * mynormals1\n",
    "    tmp3 = sigma * np.sqrt(t) * mynormals2\n",
    "    stockprice1 = s0 * np.exp(tmp1 + tmp2)\n",
    "    stockprice2 = s0 * np.exp(tmp1 + tmp3)\n",
    "    allstockprices = np.concatenate((stockprice1, stockprice2))\n",
    "    return stockprice1, stockprice2, allstockprices"
   ]
  },
  {
   "cell_type": "code",
   "execution_count": 10,
   "metadata": {},
   "outputs": [],
   "source": [
    "def bs_call_av(rng, s0, k, t, r, sigma, samplesize, myepsilon):\n",
    "    \"\"\" Antithethic variate estimation for European call price in BS model.\"\"\"\n",
    "    # Note that 2*samplesize random variables will be used in the AV estimator.\n",
    "    # Generate terminal stock prices.\n",
    "    mystockprices = terminal_stockprice_av(rng, s0, t, r, sigma, samplesize)\n",
    "    # Compute payoffs.\n",
    "    payoffs1 = np.maximum(mystockprices[0] - k, 0)\n",
    "    payoffs2 = np.maximum(mystockprices[1] - k, 0)\n",
    "    # Discount payoffs\n",
    "    discpayoffs1 = np.exp(- r * t)*payoffs1\n",
    "    discpayoffs2 = np.exp(- r * t)*payoffs2\n",
    "    thecov = np.cov(discpayoffs1, discpayoffs2, ddof=1)[0, 1]\n",
    "    possiblereduction = thecov / (2 * samplesize)\n",
    "    discpayoffs = np.concatenate((discpayoffs1, discpayoffs2))\n",
    "    price = np.mean(discpayoffs)\n",
    "    standarddev_rv = np.std(discpayoffs, ddof=1)\n",
    "    standarddev_avest = standarddev_rv / np.sqrt(2*samplesize)\n",
    "    aepsilon = norm.ppf(1.0 - myepsilon * 0.5)\n",
    "    ci_left = price - aepsilon * standarddev_avest\n",
    "    ci_right = price + aepsilon * standarddev_avest\n",
    "    return price, standarddev_avest, ci_left, ci_right, possiblereduction"
   ]
  },
  {
   "cell_type": "code",
   "execution_count": 11,
   "metadata": {},
   "outputs": [
    {
     "name": "stdout",
     "output_type": "stream",
     "text": [
      "----------------\n",
      "AV price:  3.296327 , stdev of AV est:  0.011175\n",
      "CI based on AV is ( 3.274424 ,  3.31823 ). \n",
      "Note that sample covariance/(2n) is  -5.432877334136868e-05\n"
     ]
    }
   ],
   "source": [
    "print(\"----------------\")\n",
    "AVresults = bs_call_av(rng, S0, K, T, R, Sigma, Samplesize, Myepsilon)\n",
    "print(\"AV price: \", round(AVresults[0], mydig), \", stdev of AV est: \",\n",
    "      round(AVresults[1], mydig))\n",
    "print(\"CI based on AV is (\", round(AVresults[2], mydig), \", \",\n",
    "      round(AVresults[3], mydig), \"). \")\n",
    "print(\"Note that sample covariance/(2n) is \", AVresults[4])"
   ]
  },
  {
   "cell_type": "markdown",
   "metadata": {},
   "source": [
    "We see that the AV estimate is very close to the analytical option price. In this example, we see that $cov(Z^{(1)}, Z^{(2)})/2n$, where\n",
    "\\begin{align*}\n",
    "Z^{(1)}& = e^{-rT} \\left(S_0 \\exp( (r - 0.5 \\sigma^2) T + \\sigma \\sqrt{T} X) - K \\right)^+, \\\\\n",
    "Z^{(2)}& = e^{-rT} \\left(S_0 \\exp( (r - 0.5 \\sigma^2) T + \\sigma \\sqrt{T} (-X)) - K \\right)^+, \n",
    "\\end{align*}\n",
    "is negative but very close to zero. This explains the reason why the variance reduction is not significant for this example (see page 42 of lecture note). "
   ]
  },
  {
   "cell_type": "markdown",
   "metadata": {},
   "source": [
    "### Exercise 3 \n",
    "1. Write Python code that uses a control variates estimator with the discounted stock price as control as discussed in the lecture: Let $S_i$ be i.i.d. samples with the same distribution as $S_T$ and $Y_i = e^{-rT} (S_i - K)^+$. Then the control variate estimator is given by\n",
    "\\begin{align*}\n",
    "\t\\overline{Y}_n(b) = \\frac{1}{n} \\sum_{i=1}^n (Y_i - b(e^{-r T}S_i - S(0))),\n",
    "\\end{align*}\n",
    "where $b$ might be replaced by $\\hat{b}_n^*$ (see lecture notes for the definition). \n",
    "2. Write Python code that computes the variance of the control variate estimator $\\overline{Y}_n(\\hat{b}_n^*)$ considered above. \n",
    "3. The effectiveness of the control variate depends heavily on the strike $K$. Compute a sample estimate for $\\rho^2_{XY}$, i.e., the squared correlation between $X=e^{-rT} S_T$ and $Y= e^{-rT} (S_T - K)^+$, for different values of the strike $K$ and present a plot that shows  $\\rho^2_{XY}$ as a function in $K$. \n",
    "\n",
    "### Solution - Exercise 3"
   ]
  },
  {
   "cell_type": "code",
   "execution_count": 12,
   "metadata": {},
   "outputs": [],
   "source": [
    "def bs_call_cv(rng, s0, k, t, r, sigma, samplesize, myepsilon):\n",
    "    \"\"\" Control variate estimation for European call price in BS model.\"\"\"\n",
    "    # Generate terminal stock prices.\n",
    "    mystockprice = terminal_stockprice(rng, s0, t, r, sigma, samplesize)\n",
    "    # Compute payoffs.\n",
    "    payoffs = np.maximum(mystockprice - k, 0)\n",
    "    # Discount payoffs\n",
    "    discountedpayoffs = np.exp(- r * t)*payoffs\n",
    "    # Use discounted stock as control\n",
    "    xs = np.exp(- r * t) * mystockprice\n",
    "    # Compute sample version of b*\n",
    "    bstar = np.cov(xs, discountedpayoffs, ddof=1)[0, 1] / np.var(xs, ddof=1)\n",
    "    # print(\"In cv bstar=\", bstar)\n",
    "    # Define z= Y(bstar)\n",
    "    z = discountedpayoffs - bstar * (xs - s0)\n",
    "    # Compute MC price\n",
    "    price = np.mean(z)\n",
    "    # Compute confidence interval next\n",
    "    standarddev_rv = np.std(z, ddof=1)\n",
    "    standarddev_cvest = standarddev_rv / np.sqrt(samplesize)\n",
    "    aepsilon = norm.ppf(1.0 - myepsilon * 0.5)\n",
    "    # Left boundary of CI\n",
    "    ci_left = price - aepsilon * standarddev_cvest\n",
    "    # Right boundary of CI\n",
    "    ci_right = price + aepsilon * standarddev_cvest\n",
    "    # Compute the sqared correation rhosquared\n",
    "    tmpcov = np.cov(xs, discountedpayoffs, ddof=1)[0, 1]\n",
    "    tmpvarx = np.var(xs, ddof=1)\n",
    "    tmpvary = np.var(discountedpayoffs, ddof=1)\n",
    "    rhosquared = (tmpcov ** 2) / (tmpvarx * tmpvary)\n",
    "    return price, standarddev_cvest, ci_left, ci_right, rhosquared"
   ]
  },
  {
   "cell_type": "code",
   "execution_count": 13,
   "metadata": {},
   "outputs": [
    {
     "name": "stdout",
     "output_type": "stream",
     "text": [
      "----------------\n",
      "CV price:  3.286386 , stdev of CV est:  0.00496\n",
      "CI based on CV is ( 3.276664 ,  3.296107 ). \n",
      "Note that rhosquared is  0.8029563078024153\n"
     ]
    }
   ],
   "source": [
    "print(\"----------------\")\n",
    "CVresults = bs_call_cv(rng, S0, K, T, R, Sigma, 2*Samplesize, Myepsilon)\n",
    "print(\"CV price: \", round(CVresults[0], mydig), \", stdev of CV est: \",\n",
    "      round(CVresults[1], mydig))\n",
    "print(\"CI based on CV is (\", round(CVresults[2], mydig), \", \",\n",
    "      round(CVresults[3], mydig), \"). \")\n",
    "print(\"Note that rhosquared is \", CVresults[4])"
   ]
  },
  {
   "cell_type": "markdown",
   "metadata": {},
   "source": [
    "Also the CV estimate is very close to the analytical price. The standard deviation of the CV estimator is much smaller than the standard deviation of the MC estimator. "
   ]
  },
  {
   "cell_type": "markdown",
   "metadata": {},
   "source": [
    "### Sensitivity of the correlation in the CV estimator with respect to the strike"
   ]
  },
  {
   "cell_type": "code",
   "execution_count": 14,
   "metadata": {},
   "outputs": [],
   "source": [
    "\"\"\"\n",
    "We consider the sensitivity of rho and rhosquared related to the control\n",
    "variate estimator with respect to the strike price.\n",
    "We consider the same model parameters as in Glasserman(2004; p. 189) and will reproduce the results reported there. \n",
    "\"\"\"\n",
    "\n",
    "S0 = 50\n",
    "T = 0.25\n",
    "R = 0.05\n",
    "Sigma = 0.3\n",
    "Samplesize = 100000\n",
    "\n",
    "\n",
    "numberofk = 100\n",
    "strikes = np.linspace(start=0, stop=80, num=numberofk)\n",
    "rhosquared = np.zeros(numberofk)\n",
    "rho = np.zeros(numberofk)"
   ]
  },
  {
   "cell_type": "code",
   "execution_count": 15,
   "metadata": {},
   "outputs": [],
   "source": [
    "# Generate stockprice\n",
    "myst = terminal_stockprice(rng, S0, T, R, Sigma, Samplesize)\n",
    "mystockprice = myst\n",
    "\n",
    "for i in range(numberofk):\n",
    "    k = strikes[i]\n",
    "    # Compute payoffs.\n",
    "    payoffs = np.maximum(mystockprice - k, 0)\n",
    "    # Discount payoffs\n",
    "    discountedpayoffs = np.exp(- R * T)*payoffs\n",
    "    # Define variable y for control variate estimator\n",
    "    ys = discountedpayoffs\n",
    "    # Use discounted stock as control\n",
    "    xs = np.exp(- R * T) * mystockprice\n",
    "    rho[i] = np.corrcoef(xs, ys)[0, 1]\n",
    "    rhosquared[i] = rho[i] ** 2"
   ]
  },
  {
   "cell_type": "code",
   "execution_count": 16,
   "metadata": {},
   "outputs": [
    {
     "data": {
      "image/png": "[encoded data removed]",
      "text/plain": [
       "<Figure size 432x288 with 1 Axes>"
      ]
     },
     "metadata": {
      "needs_background": "light"
     },
     "output_type": "display_data"
    }
   ],
   "source": [
    "plt.plot(strikes, rhosquared, c=\"blue\")\n",
    "plt.xlabel(\"strike\")\n",
    "plt.ylabel(r\"$\\rho^2$\")\n",
    "plt.title(\"Squared correlation of discounted payoff and discounted stock\")\n",
    "plt.show()"
   ]
  },
  {
   "cell_type": "markdown",
   "metadata": {},
   "source": [
    "Hence, we see that for small strikes there is a strong correlation between the discounted payoff and the discounted stock price, but this decreases significantly for larger strikes. "
   ]
  },
  {
   "cell_type": "code",
   "execution_count": 17,
   "metadata": {},
   "outputs": [],
   "source": [
    "# Next we compare the standarddeviation of the MC and the CV estimator\n",
    "stdMC = np.zeros(numberofk)\n",
    "stdCV = np.zeros(numberofk)\n",
    "\n",
    "# Generate the terminal stock prices\n",
    "mystockprice = terminal_stockprice(rng, S0, T, R, Sigma, Samplesize)\n",
    "\n",
    "for i in range(numberofk):\n",
    "    k = strikes[i]\n",
    "    # Compute discounted payoffs\n",
    "    discountedpayoffs = np.exp(- R * T) * np.maximum(mystockprice - k, 0)\n",
    "    # Compute standard dev of MC estimator \n",
    "    stdMC[i] = np.std(discountedpayoffs, ddof=1) / np.sqrt(Samplesize)\n",
    "\n",
    "    # Use discounted stock as control\n",
    "    xs = np.exp(- R * T) * mystockprice\n",
    "    # Compute sample version of b*\n",
    "    bstar = np.cov(xs, discountedpayoffs, ddof=1)[0, 1] / np.var(xs, ddof=1)\n",
    "    # Define z= Y(bstar)\n",
    "    z = discountedpayoffs - bstar * (xs - S0)\n",
    "    # Compute standard dev of CV estimator \n",
    "    stdCV[i] = np.std(z, ddof=1) / np.sqrt(Samplesize)\n",
    "\n",
    "\n"
   ]
  },
  {
   "cell_type": "code",
   "execution_count": 18,
   "metadata": {},
   "outputs": [
    {
     "data": {
      "image/png": "[encoded data removed]",
      "text/plain": [
       "<Figure size 432x288 with 1 Axes>"
      ]
     },
     "metadata": {
      "needs_background": "light"
     },
     "output_type": "display_data"
    }
   ],
   "source": [
    "fig, ax = plt.subplots(nrows=1, ncols=1)\n",
    "ax.plot(strikes, stdMC, lw=3, c=\"blue\", label=\"Std of MC estimator\")\n",
    "ax.plot(strikes, stdCV, lw=3, c=\"red\", label=\"Std of CV estimator\", linestyle = \"dashed\")\n",
    "ax.set_ylabel(\"Standard deviation\")\n",
    "ax.set_xlabel(\"strike\")\n",
    "ax.set_title(\"Comparison of standard deviations of different estimators\")\n",
    "ax.legend(loc = \"upper right\")\n",
    "plt.show()"
   ]
  },
  {
   "cell_type": "markdown",
   "metadata": {},
   "source": [
    "Hence, we see that for our model parameters for small strikes, the standard deviation of the control variate estimator is significantly smaller than the standard deviation of the Monte Carlo estimator. For larger strikes, the standard deviations of the two estimators are very similar and overall on a rather low level. The standard deviation of the MC estimator is highest for small strikes and for those the squared correlation between the discounted payoff and the discounted stock price is highest (see above), showing that there are great benefits of using a CV estimator rather than a standard MC estimator for small strike prices.   "
   ]
  },
  {
   "cell_type": "markdown",
   "metadata": {},
   "source": [
    "## Insurance portfolio loss   under a  compound Poisson model\n",
    "\n",
    "The losses  of an insurance portfolio $A$ is of the form:\n",
    "$$L_A =\\sum_{i=1}^{N_A} X_i, \n",
    "$$\n",
    "where $N_A$ is a Poisson random variable with parameter $10$,\n",
    "$X_i$ are i.i.d log-normal random variables   with parameters 2 and $\\sqrt{8}$ \n",
    "(8 is the variance  of the underlying normal).\n",
    "The losses  of another (independent of $A$) insurance portfolio $B$ is of the form:\n",
    "$$L_B =\\sum_{i=1}^{N_B} Y_i, \n",
    "$$\n",
    "where $N_B$ is a Poisson random variable with parameter $10$,\n",
    "and $Y_i$ are i.i.d log-normal  random\n",
    "variables  with parameter 0 and $\\sqrt{12}$.\n",
    "\n",
    "\n",
    "We apply   the  Monte Carlo approach  to approximate the  probability\n",
    "$L_0=\\mathbb{P}(L_A> L_B)$.\n",
    "\n"
   ]
  },
  {
   "cell_type": "markdown",
   "metadata": {},
   "source": [
    "### Exercise 4\n",
    "1.  Implement a Monte Carlo estimator for estimating $L_0$,  which  returns a Monte Carlo approximation for $L_0$, together with an asymptotic 95\\% confidence interval. \n",
    "\n",
    "<!-- 2. Implement an antithetic variates estimator for $L_0$ and\tcompute the variance of your antithetic variate estimator. -->\n",
    "\n",
    "2. Can you write a more efficient implementation without looping over the sample size?\n"
   ]
  },
  {
   "cell_type": "code",
   "execution_count": 19,
   "metadata": {},
   "outputs": [],
   "source": [
    "# Defining some model parameters\n",
    "Lambda = 10.0\n",
    "MuA = 2.0\n",
    "SigmaA = np.sqrt(8)\n",
    "MuB = 0.0  \n",
    "SigmaB = np.sqrt(12) \n",
    "Samplesize = 100000\n",
    "Myepsilon = 0.05\n",
    "mydig = 6"
   ]
  },
  {
   "cell_type": "markdown",
   "metadata": {},
   "source": [
    "The following table illustrates a sample of Compound Poisson random variables with  size $n$:\n",
    "\n",
    "|Number of claims | Claim 1 | Claim 2 | Claim 3 | ...|Total loss|\n",
    "|:---:| :---: | :---: | :---: | :---:| :---: |\n",
    "|$N^{(1)}=2$|  $X^{(1)}_1$ | $X^{(1)}_2$ |  | |$L^{(1)}$ |\n",
    "|$N^{(2)}=3$|  $X^{(2)}_1$ | $X^{(2)}_2$ |$X^{(2)}_3$  ||$L^{(2)}$ |\n",
    "|$\\vdots$| $\\vdots$ | $\\vdots$ | $\\vdots$ | $\\vdots$ |$\\vdots$ |\n",
    "|$N^{(n)}=1$|  $X^{(n)}_1$ |  | |  |  $L^{(n)}$|\n"
   ]
  },
  {
   "cell_type": "code",
   "execution_count": 20,
   "metadata": {},
   "outputs": [],
   "source": [
    "def mycompoundPoisson(rng, Lambda, mu, sigma, samplesize):\n",
    "    myPoissonsample = rng.poisson(lam=Lambda, size=samplesize)\n",
    "    myCompoundPossionSample = np.zeros(samplesize)\n",
    "    for i in range(samplesize):\n",
    "        myCompoundPossionSample[i] = np.sum(np.exp(mu + sigma * rng.standard_normal(size=myPoissonsample[i])))\n",
    "        \n",
    "    return myCompoundPossionSample\n",
    "\n",
    "\n",
    "def portfolio_loss(rng, Lambda, muA, sigmaA, muB, sigmaB, samplesize, myepsilon):\n",
    "    \"\"\"\n",
    "    Monte Carlo estimations for portfolio losses in compounded Poisson model.\n",
    "\n",
    "    \"\"\"\n",
    " \n",
    "\n",
    "    loss_sign = np.zeros(samplesize)\n",
    "    \n",
    "    lossA = mycompoundPoisson(rng, Lambda, muA, sigmaA, samplesize)\n",
    "    lossB = mycompoundPoisson(rng, Lambda, muB, sigmaB, samplesize)\n",
    "    loss_sign = (lossA > lossB) * 1\n",
    "    \n",
    "    # Compute MC estimator and confidence interval \n",
    "    mean_difference = np.mean(loss_sign)\n",
    "    standarddev_rv = np.std(loss_sign, ddof=1)\n",
    "    standarddev_mcest = standarddev_rv / np.sqrt(samplesize)\n",
    "    \n",
    "    aepsilon = norm.ppf(1.0 - myepsilon * 0.5)\n",
    "    # Left boundary of CI\n",
    "    ci_left = mean_difference - aepsilon * standarddev_mcest\n",
    "    # Right boundary of CI\n",
    "    ci_right = mean_difference + aepsilon * standarddev_mcest\n",
    "    return mean_difference, standarddev_mcest, ci_left, ci_right\n",
    "    "
   ]
  },
  {
   "cell_type": "code",
   "execution_count": 24,
   "metadata": {},
   "outputs": [
    {
     "name": "stdout",
     "output_type": "stream",
     "text": [
      "----------------\n",
      "MC loss:  0.67768 , stdev of MC est:  0.001478\n",
      "CI based on MC is ( 0.674783 ,  0.680577 ). \n",
      "Computation time is  2.3612632751464844\n"
     ]
    }
   ],
   "source": [
    "\n",
    "start = time.time()\n",
    "MCresults = portfolio_loss(rng, Lambda, MuA, SigmaA, MuB, SigmaB, Samplesize, Myepsilon)\n",
    "\n",
    "runtime = time.time()-start\n",
    "\n",
    "print(\"----------------\")\n",
    "print(\"MC loss: \", round(MCresults[0], mydig), \", stdev of MC est: \",\n",
    "      round(MCresults[1], mydig))\n",
    "print(\"CI based on MC is (\", round(MCresults[2], mydig), \", \",\n",
    "      round(MCresults[3], mydig), \"). \")\n",
    "print(\"Computation time is \", runtime)"
   ]
  },
  {
   "cell_type": "markdown",
   "metadata": {},
   "source": [
    "Apply a shrinking sampling techinique to avoid looping over sample sizes"
   ]
  },
  {
   "cell_type": "code",
   "execution_count": 22,
   "metadata": {},
   "outputs": [],
   "source": [
    "def mycompoundPoisson_shrinking(rng, Lambda, mu, sigma, samplesize):\n",
    "    myPoissonsample = rng.poisson(lam=Lambda, size=samplesize)\n",
    "    myCompoundPossionSample = np.zeros(samplesize)\n",
    "    for i in range(np.max(myPoissonsample)):\n",
    "        idx = (myPoissonsample >= i)\n",
    "        myCompoundPossionSample [idx] += np.exp(mu + sigma * rng.standard_normal(size=np.sum(idx)))\n",
    "        \n",
    "    return myCompoundPossionSample\n",
    "\n",
    "def portfolio_loss_shrinking(rng, Lambda, muA, sigmaA, muB, sigmaB, samplesize, myepsilon):\n",
    "    \"\"\"\n",
    "    Monte Carlo estimations for portfolio losses in compounded Poisson model.\n",
    "\n",
    "    \"\"\"\n",
    " \n",
    "\n",
    "    loss_sign = np.zeros(samplesize)\n",
    "    \n",
    "    lossA = mycompoundPoisson_shrinking(rng, Lambda, muA, sigmaA, samplesize)\n",
    "    lossB = mycompoundPoisson_shrinking(rng, Lambda, muB, sigmaB, samplesize)\n",
    "    loss_sign = (lossA > lossB) * 1\n",
    "    \n",
    "    # Compute MC estimator and confidence interval \n",
    "    mean_difference = np.mean(loss_sign)\n",
    "    standarddev_rv = np.std(loss_sign, ddof=1)\n",
    "    standarddev_mcest = standarddev_rv / np.sqrt(samplesize)\n",
    "    \n",
    "    aepsilon = norm.ppf(1.0 - myepsilon * 0.5)\n",
    "    # Left boundary of CI\n",
    "    ci_left = mean_difference - aepsilon * standarddev_mcest\n",
    "    # Right boundary of CI\n",
    "    ci_right = mean_difference + aepsilon * standarddev_mcest\n",
    "    return mean_difference, standarddev_mcest, ci_left, ci_right\n"
   ]
  },
  {
   "cell_type": "code",
   "execution_count": 25,
   "metadata": {},
   "outputs": [
    {
     "name": "stdout",
     "output_type": "stream",
     "text": [
      "----------------\n",
      "MC loss:  0.6798 , stdev of MC est:  0.001475\n",
      "CI based on MC is ( 0.676908 ,  0.682692 ). \n",
      "Computation time with shrinking sampling is  0.10666179656982422\n"
     ]
    }
   ],
   "source": [
    "start = time.time()\n",
    "MCresults = portfolio_loss_shrinking(rng, Lambda, MuA, SigmaA, MuB, SigmaB, Samplesize, Myepsilon)\n",
    "\n",
    "runtime = time.time()-start\n",
    "\n",
    "print(\"----------------\")\n",
    "print(\"MC loss: \", round(MCresults[0], mydig), \", stdev of MC est: \",\n",
    "      round(MCresults[1], mydig))\n",
    "print(\"CI based on MC is (\", round(MCresults[2], mydig), \", \",\n",
    "      round(MCresults[3], mydig), \"). \")\n",
    "print(\"Computation time with shrinking sampling is \", runtime)"
   ]
  }
 ],
 "metadata": {
  "kernelspec": {
   "display_name": "Python 3 (ipykernel)",
   "language": "python",
   "name": "python3"
  },
  "language_info": {
   "codemirror_mode": {
    "name": "ipython",
    "version": 3
   },
   "file_extension": ".py",
   "mimetype": "text/x-python",
   "name": "python",
   "nbconvert_exporter": "python",
   "pygments_lexer": "ipython3",
   "version": "3.9.7"
  }
 },
 "nbformat": 4,
 "nbformat_minor": 4
}
