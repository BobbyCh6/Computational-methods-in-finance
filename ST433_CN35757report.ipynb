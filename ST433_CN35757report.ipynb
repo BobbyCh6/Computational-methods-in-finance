{
 "cells": [
  {
   "cell_type": "markdown",
   "id": "6bb4d6cb",
   "metadata": {},
   "source": [
    "# ST433 Summer Project\n",
    "35757"
   ]
  },
  {
   "cell_type": "code",
   "execution_count": 1,
   "id": "2ec07157",
   "metadata": {},
   "outputs": [],
   "source": [
    "import numpy as np\n",
    "import matplotlib.pyplot as plt\n",
    "from scipy.stats import norm\n",
    "from scipy.stats import gmean\n",
    "\n",
    "rng = np.random.default_rng(6)"
   ]
  },
  {
   "cell_type": "markdown",
   "id": "ba9dcfa7",
   "metadata": {},
   "source": [
    "## Solution 1"
   ]
  },
  {
   "cell_type": "markdown",
   "id": "fb97f1cf",
   "metadata": {},
   "source": [
    "### Part 1\n",
    "Given the cumulative dsitribution function (cdf) \n",
    "\\begin{equation*}\n",
    "  F(x) =\n",
    "    \\begin{cases}\n",
    "      0 & if\\quad x<1\\\\\n",
    "      x-\\frac{3}{4} & if\\quad 1\\leq x<\\frac{3}{2}\\\\\n",
    "      1 & if\\quad x\\geq\\frac{3}{2},\n",
    "    \\end{cases}       \n",
    "\\end{equation*}\n",
    "\n",
    "its generalized inverse $F^{-1}$ is defined by \n",
    "\n",
    "\\begin{align*}\n",
    "\tF^{-1}(u) = \\text{inf} \\{x \\in \\mathbb{R}| F(x)\\geq u\\} \\quad \\text{for} \\quad u \\in (0,1).\n",
    "\\end{align*}\n",
    "\n",
    "It has $F(F^{-1}(u)) \\geq u$, the equal sign holds for strictly increasing continous function. When there are jumps ot flat curve in the culmulative distribution function, the inequality holds.\n",
    "\n",
    "In this question, $F(x)$ has jump points when $x=1$ and $x=\\frac{3}{2}$.Therefore, the generalised inverse of F is given by:\n",
    "\n",
    "\\begin{equation}\n",
    "  F^{-1}(u) =\n",
    "    \\begin{cases}\n",
    "      1 & if\\quad 0<u<\\frac{1}{4}\\\\\n",
    "      u+\\frac{3}{4} & if\\quad \\frac{1}{4}\\leq u<\\frac{3}{4}\\\\\n",
    "      \\frac{3}{2} & if\\quad \\frac{3}{4}\\leq u <1.\n",
    "    \\end{cases}       \n",
    "\\end{equation}\n",
    "\n",
    "If $U \\sim \\mathcal{U}(0,1)$, then the random variable $F^{-1}(u)$ has cumulative distribution function $F$. Therefore, to sample from $F$, we can first generate ramdom number $u \\sim \\mathcal{U}(0,1)$, and then calculate $F^{-1}(u)$.\n"
   ]
  },
  {
   "cell_type": "markdown",
   "id": "1f68acbc",
   "metadata": {},
   "source": [
    "### Part 2"
   ]
  },
  {
   "cell_type": "code",
   "execution_count": 2,
   "id": "2bad8a06",
   "metadata": {},
   "outputs": [
    {
     "data": {
      "image/png": "[encoded data removed]",
      "text/plain": [
       "<Figure size 432x288 with 1 Axes>"
      ]
     },
     "metadata": {
      "needs_background": "light"
     },
     "output_type": "display_data"
    }
   ],
   "source": [
    "sample_size = 100000\n",
    "u = rng.random(size=sample_size)\n",
    "\n",
    "x = np.zeros(sample_size)\n",
    "for i in range(sample_size):  \n",
    "    if u[i] >= 0.75:\n",
    "        x[i] = 1.5\n",
    "    elif u[i]<=0.25:\n",
    "        x[i] = 1\n",
    "    elif u[i]>0.25 and u[i] < 0.75:\n",
    "        x[i]=u[i]+0.75\n",
    "\n",
    "fig,ax = plt.subplots(1,1)\n",
    "ax.hist(x, bins=100)\n",
    "ax.set_title(\"Histogram of a sample from F\")\n",
    "ax.set_xlabel(\"X\")\n",
    "ax.set_ylabel(\"Frequency\")\n",
    "ax.set_ylim((0, 26000))\n",
    "plt.show()"
   ]
  },
  {
   "cell_type": "markdown",
   "id": "e4e2752c",
   "metadata": {},
   "source": [
    "### Part 3\n",
    "The method of antithetic variates attempts to exploit negative correlation between random variables to reduce the variance. For $U \\sim \\mathcal{U}(0,1)$, the antithetic variates $Y$ should be calculated with $1-U \\sim \\mathcal{U}(0,1)$. $F^{-1}(U)$ and $F^{-1}(1 − U)$ both have cdf $F$ and are antithetic since $F^{-1}$ is monotone.\n",
    "\n",
    "Let $Y = F^{-1}(1 - u)$\n",
    "\\begin{equation}\n",
    "  F^{-1}(1-u) =\n",
    "    \\begin{cases}\n",
    "      \\frac{3}{2} & \\text{if}\\quad 0<u<\\frac{1}{4}\\\\\n",
    "      \\frac{7}{4}-u & \\text{if}\\quad \\frac{1}{4}\\leq u<\\frac{3}{4}\\\\\n",
    "      1 & \\text{if}\\quad \\frac{3}{4}\\leq u <1\n",
    "    \\end{cases}       \n",
    "\\end{equation}"
   ]
  },
  {
   "cell_type": "code",
   "execution_count": 3,
   "id": "fa613726",
   "metadata": {},
   "outputs": [],
   "source": [
    "y = np.zeros(sample_size)\n",
    "for i in range(sample_size):  \n",
    "    if u[i] >= 0.75:\n",
    "        y[i] = 1\n",
    "    elif u[i]<=0.25:\n",
    "        y[i] = 1.5\n",
    "    elif u[i]>0.25 and u[i] < 0.75:\n",
    "        y[i]=1.75-u[i]\n",
    "        "
   ]
  },
  {
   "cell_type": "code",
   "execution_count": 4,
   "id": "b545ee98",
   "metadata": {},
   "outputs": [
    {
     "name": "stdout",
     "output_type": "stream",
     "text": [
      "The covariance is:  -0.041665072011290744\n"
     ]
    }
   ],
   "source": [
    "covariance = np.cov(x, y, ddof=1)[0, 1]\n",
    "print('The covariance is: ', covariance)"
   ]
  },
  {
   "cell_type": "markdown",
   "id": "3b24a3e1",
   "metadata": {},
   "source": [
    "Therefore, the covariance is less than 0, the antithetic pair $(X, Y)$, i.e. $(U, 1-U)$, which is sampled from $U \\sim \\mathcal{U}(0,1)$ and $1-U \\sim \\mathcal{U}(0,1)$, can reduce the variance."
   ]
  },
  {
   "cell_type": "markdown",
   "id": "60e43139",
   "metadata": {},
   "source": [
    "## Solution 2"
   ]
  },
  {
   "cell_type": "markdown",
   "id": "6b39b9f1",
   "metadata": {},
   "source": [
    "### Part 1\n",
    "#### (a)\n",
    "The probability distribution of $(\\hat{X}_1,...,\\hat{X}_{10})^\\top$ is $\\mathcal{N}_{10}(0, \\Sigma)$, where $\\Sigma$ is \n",
    "\\begin{pmatrix}\n",
    "h & 0 & 0 & \\dots & 0  \\\\\n",
    "0 & 2h & 0 & \\dots & 0\\\\\n",
    "0 & 0 & 3h & \\dots & 0\\\\\n",
    "\\vdots & \\vdots & \\vdots & \\ddots & \\vdots\\\\\n",
    "0 & 0 & 0 & \\dots & 10h\\\\\n",
    "\\end{pmatrix}\n",
    "\n",
    "Because $\\hat X_i = \\sqrt{ih}Z_i$ for all $i \\in \\{1, ..., 10\\}$ and $Z = (Z_1, ..., Z_{10})^\\top \\sim \\mathcal{N}_{10}(0, I_{10})$, $Z_i$ are i.i.d standard normal random variable, and $X_i$ are also i.i.d random variable with \n",
    "\n",
    "\\begin{align*}\n",
    "   cov(\\hat X_i, \\hat X_j) & = 0 \\quad \\text{for} \\quad i \\neq j\\\\\n",
    "   var(\\hat X_i) & = ih\n",
    "\\end{align*}\n",
    "\n",
    "Therefore, the covariance matrix $\\Sigma$ is given by:\n",
    "\n",
    "\\begin{pmatrix}\n",
    "h & 0 & 0 & \\dots & 0  \\\\\n",
    "0 & 2h & 0 & \\dots & 0\\\\\n",
    "0 & 0 & 3h & \\dots & 0\\\\\n",
    "\\vdots & \\vdots & \\vdots & \\ddots & \\vdots\\\\\n",
    "0 & 0 & 0 & \\dots & 10h\\\\\n",
    "\\end{pmatrix}\n",
    "\n",
    "#### (b)\n",
    "It is not an exact scheme because the joint distribution of the simulated values $(\\hat{X}_1,...,\\hat{X}_{10})^\\top$ above does not coincide with the distribution of the corresponding Brownian motion $(W_t)$ at $t_1, ..., t_n$ given by $(\\hat{W}_1,...,\\hat{W}_{10})^\\top$.\n",
    "\n",
    "For $ i = 0, ..., 9 $, we define \n",
    "\\begin{align*}\n",
    "   \\hat W_{t_{i+1}} = \\hat W_{t_i} + \\sqrt{h} Z_{i+1},\n",
    "\\end{align*}\n",
    "\n",
    "where $Z_1, ..., Z_{10}$ are i.i.d standard normally distributed random variables and $\\hat W_0 = 0$ \n",
    "\n",
    "\n",
    "The covariance of Brownian motion is \n",
    "\n",
    "\\begin{align*}\n",
    "   cov(\\hat W_s, \\hat W_t) = min(s,t)h ,\n",
    "\\end{align*}\n",
    "\n",
    "and the convariance matrix $\\Sigma^\\prime$ is given by\n",
    "\n",
    "\\begin{pmatrix}\n",
    "h & h & h & \\dots & h  \\\\\n",
    "h & 2h & 2h & \\dots & 2h\\\\\n",
    "h & 2h & 3h & \\dots & 3h\\\\\n",
    "\\vdots & \\vdots & \\vdots & \\ddots & \\vdots\\\\\n",
    "h & 2h & 3h & \\dots & 10h\\\\\n",
    "\\end{pmatrix}\n",
    "\n",
    "Therefore, the joint probability distribution of Brownian motion $(\\hat{W}_1,...,\\hat{W}_{10})^\\top$ is $\\mathcal{N}_{10}(0, \\Sigma^\\prime)$, and  $\\Sigma \\neq \\Sigma^\\prime$, it is not an exact scheme."
   ]
  },
  {
   "cell_type": "markdown",
   "id": "bf68b870",
   "metadata": {},
   "source": [
    "### Part 2\n",
    "\n",
    "The stochastic process is \n",
    "\n",
    "\\begin{align*}\n",
    "\tdX_t = cX_t dW_t,\n",
    "\\end{align*}\n",
    "\n",
    "where $c$ is a constant and not equal to 0.\n",
    "\n",
    "\n",
    "\n",
    "The first order Euler scheme is given by $\\hat X_0 = X_0$ and for $j = 0, 1, 2, ...$\n",
    "\n",
    "\\begin{align*}\n",
    "\t\\hat X_{(j+1)h} = \\hat X_{jh} + \\mu (\\hat X_{jh}) h + \\sigma (\\hat X_{jh}) \\sqrt{h}Z_{j+1}, \n",
    "\\end{align*}\n",
    "\n",
    "The Milstein scheme is given by $\\hat X_0 = X_0$ and for j = 0, 1, 2, ...\n",
    "\n",
    "\\begin{align*}\n",
    "\t\\hat X_{(j+1)h} = \\hat X_{jh} + \\mu (\\hat X_{jh}) h + \\sigma (\\hat X_{jh}) \\sqrt{h}Z_{j+1} + \\frac{1}{2} \\sigma (\\hat X_{jh})\\sigma^\\prime (\\hat X_{jh}) h (Z^2_{j+1}-1), \n",
    "\\end{align*}\n",
    "\n",
    "The second order Euler scheme is given by $\\hat X_0 = X_0$ and for j = 0, 1, 2, ...\n",
    "\n",
    "\\begin{align*}\n",
    "\t\\hat X_{(j+1)h} = & \\hat X_{jh} + \\mu (\\hat X_{jh}) h + \\sigma (\\hat X_{jh}) \\bar W_{j} + \\frac{1}{2} \\sigma (\\hat X_{jh})\\sigma^\\prime (\\hat X_{jh}) (\\bar W^2_{j}-h )\\\\\n",
    "    &+ \\left(\\frac{1}{2}\\sigma^2(\\hat X_{jh})\\mu^{\\prime\\prime}(\\hat X_{jh}) + \\mu(\\hat X_{jh})\\mu^\\prime(\\hat X_{jh})\\right)\\frac{h^2}{2}+\\sigma(\\hat X_{jh})\\mu^\\prime(\\hat X_{jh})\\bar J_j \\\\\n",
    "    &+ \\left(\\frac{1}{2}\\sigma^2(\\hat X_{jh})\\sigma^{\\prime\\prime}(\\hat X_{jh}) + \\mu(\\hat X_{jh})\\sigma^\\prime(\\hat X_{jh})\\right)(h\\bar W_j - \\bar J_j), \n",
    "\\end{align*}\n",
    "\n",
    "To satisfy the condition that the first order Euler scheme and the Milstein scheme do not coincide, the last term in Milstein scheme should not equal to 0, namely:\n",
    "\n",
    "\\begin{align*}\n",
    "    \\frac{1}{2} \\sigma (\\hat X_{jh})\\sigma^\\prime (\\hat X_{jh}) h (Z^2_{j+1}-1) \\neq 0, \n",
    "\\end{align*}\n",
    "\n",
    "To satisfy the condition that the second order Euler scheme coincides with the Milstein scheme, the last several terms in second order Euler scheme should be 0, namely:\n",
    "\n",
    "\\begin{align*}\n",
    "\t \\left(\\frac{1}{2}\\sigma^2(\\hat X_{jh})\\mu^{\\prime\\prime}(\\hat X_{jh}) + \\mu(\\hat X_{jh})\\mu^\\prime(\\hat X_{jh})\\right)\\frac{h^2}{2}+\\sigma(\\hat X_{jh})\\mu^\\prime(\\hat X_{jh})\\bar J_j + \\left(\\frac{1}{2}\\sigma^2(\\hat X_{jh})\\sigma^{\\prime\\prime}(\\hat X_{jh}) + \\mu(\\hat X_{jh})\\sigma^\\prime(\\hat X_{jh})\\right)(h\\bar W_j - \\bar J_j) = 0, \n",
    "\\end{align*}\n",
    "\n",
    "When $\\mu (X_{jh}) = 0$ and $\\sigma (X_{jh}) = cX_{jh}$ the equal sign holds, where c is constant and not equal to 0.\n",
    "\n",
    "Therefore, the stochastic process \n",
    "\n",
    "\\begin{align*}\n",
    "\tdX_t = cX_t dW_t,\n",
    "\\end{align*}\n",
    "\n",
    "where c is a constant and not equal to 0, satisfies the two conditions."
   ]
  },
  {
   "cell_type": "markdown",
   "id": "0bb030d1",
   "metadata": {},
   "source": [
    "## Solution 3"
   ]
  },
  {
   "cell_type": "markdown",
   "id": "921be7cb",
   "metadata": {},
   "source": [
    "### Part1.\n",
    "This Asian put option has payoff\n",
    "\\begin{align*}\n",
    "\tH = (K - \\frac{1}{m}\\sum_{j=1}^{m} S_{t_j})^+, \n",
    "\\end{align*}\n",
    "where $0 = t_0 < t_1 < \\ldots < t_m=T$ is a fixed set of dates, $T$ is the maturity of the option, $K$ is the strike price.\n",
    "\n",
    "We consider the Black-Scholes model with time-$t$ stock price  \n",
    "\\begin{align*}\n",
    "\tS_t = S_0 \\exp \\left( (r - \\frac{\\sigma^2}{2}) t + \\sigma W_t \\right)\n",
    "\\end{align*}\n",
    "and riskless asset with time-$t$ price $B_t = e^{rt}$. \n",
    "The time-0 price of the Asian option is given by (expectation is taken under the risk-neutral probability measure)\n",
    "\\begin{align*}   \n",
    "\tI=\\mathbb{E}[e^{-rT}(K - \\frac{1}{m}\\sum_{j=1}^{m} S_{t_j})^+].  \n",
    "\\end{align*}\n",
    "We can compute the price of this option using a Monte Carlo estimator\n",
    "\\begin{align*}\n",
    "\t\\hat{I}_{MC} = \\frac{1}{n} \\sum_{i=1}^n Y_i, \n",
    "\\end{align*}\n",
    "where $Y_i$ are i.i.d. with the same distribution as the random variable $$Y=e^{-rT}(K - \\frac{1}{m}\\sum_{j=1}^{m} S_{t_j})^+,$$ \n",
    "(As usual $r \\geq 0$ is the interest rate, $\\sigma>0$ the volatility and $(W_t)$ is a Brownian motion under the risk-neutral probability measure.)\n",
    "\n",
    "which in the combined version is that\n",
    "\\begin{align*}\n",
    "\t\\hat{I}_{MC} = \\frac{1}{n} \\sum_{i=1}^n [e^{-r T} (K - \\frac{1}{m} \\sum_{j=1}^m S_{i,t_j} )],\n",
    "\\end{align*}\n"
   ]
  },
  {
   "cell_type": "code",
   "execution_count": 5,
   "id": "bfca8487",
   "metadata": {},
   "outputs": [],
   "source": [
    "def asianput_mc(rng, s0, K, T, mu, sigma, no_of_paths, no_of_steps, epsilon):\n",
    "    h = T / no_of_steps\n",
    "    norm_matrix = rng.standard_normal(size=(no_of_paths, no_of_steps))\n",
    "    rv = np.cumsum(norm_matrix, axis=1)\n",
    "    timepoints = np.arange(1, no_of_steps+1) * h\n",
    "    tmp1 = (mu - 0.5 * sigma ** 2) * timepoints\n",
    "    tmp2 = np.sqrt(h) * sigma * rv\n",
    "    paths = s0 * np.exp(np.tile(tmp1,  reps=(no_of_paths,1)) + tmp2)\n",
    "    paths = np.insert(paths, 0, s0 ,axis=1)\n",
    "    \n",
    "    avg_price = np.mean(paths[:,1:],axis=1)\n",
    "    payoff = np.maximum(K - avg_price, 0)\n",
    "    discounted_payoffs = np.exp(- mu * T)*payoff\n",
    "    \n",
    "    price = np.mean(discounted_payoffs)\n",
    "    standarddev_mcest = np.std(discounted_payoffs, ddof=1) / np.sqrt(no_of_paths)\n",
    "    aepsilon = norm.ppf(1.0 - epsilon * 0.5)\n",
    "    ci_left = price - aepsilon * standarddev_mcest\n",
    "    ci_right = price + aepsilon * standarddev_mcest\n",
    "    return price, standarddev_mcest, ci_left, ci_right"
   ]
  },
  {
   "cell_type": "code",
   "execution_count": 6,
   "id": "d63d776c",
   "metadata": {},
   "outputs": [
    {
     "name": "stdout",
     "output_type": "stream",
     "text": [
      "MC price of Asian put option:  6.644019 , stdev of MC est:  0.027858\n",
      "The corresponding CI is: ( 6.572261 ,  6.715777 ).\n"
     ]
    }
   ],
   "source": [
    "result = asianput_mc(rng, 100, 100, 1, 0.01, 0.3, 100000, 100, 0.01)\n",
    "print(\"MC price of Asian put option: \", round(result[0], 6), \", stdev of MC est: \", \n",
    "      round(result[1], 6))\n",
    "print(\"The corresponding CI is: (\", round(result[2], 6), \", \" ,  round(result[3], 6), \").\")"
   ]
  },
  {
   "cell_type": "markdown",
   "id": "d9334e4c",
   "metadata": {},
   "source": [
    "### Part 2\n",
    "The control variate is  suitable\n"
   ]
  },
  {
   "cell_type": "code",
   "execution_count": 7,
   "id": "81b4a4b3",
   "metadata": {},
   "outputs": [],
   "source": [
    "def asianput_cv(rng, s0, K, T, mu, sigma, no_of_paths, no_of_steps):\n",
    "    h = T / no_of_steps\n",
    "    norm_matrix = rng.standard_normal(size=(no_of_paths, no_of_steps))\n",
    "    rv = np.cumsum(norm_matrix, axis=1)\n",
    "    timepoints = np.arange(1, no_of_steps+1) * h\n",
    "    tmp1 = (mu - 0.5 * sigma ** 2) * timepoints\n",
    "    tmp2 = np.sqrt(h) * sigma * rv\n",
    "    paths = s0 * np.exp(np.tile(tmp1,  reps=(no_of_paths,1)) + tmp2)\n",
    "    paths = np.insert(paths, 0, s0 ,axis=1)\n",
    "    \n",
    "    avg_price = np.mean(paths[:,1:],axis=1)\n",
    "    geom_price = gmean(paths[:,1:],axis=1)\n",
    "    \n",
    "    payoff_mc = np.maximum(K - avg_price, 0)\n",
    "    payoff_cv = np.maximum(K - geom_price, 0)\n",
    "    \n",
    "    discpay_mc = np.exp(- mu * T)*payoff_mc\n",
    "    discpay_cv = np.exp(- mu * T)*payoff_cv\n",
    "    \n",
    "    tmpcov = np.cov(discpay_cv, discpay_mc, ddof=1)[0, 1]\n",
    "    tmpvarx = np.var(discpay_cv, ddof=1)\n",
    "    tmpvary = np.var(discpay_mc, ddof=1)\n",
    "    rhosquared = (tmpcov ** 2) / (tmpvarx * tmpvary)\n",
    "    return rhosquared\n",
    "    "
   ]
  },
  {
   "cell_type": "code",
   "execution_count": 8,
   "id": "2639bf5a",
   "metadata": {},
   "outputs": [
    {
     "data": {
      "text/plain": [
       "0.998555615483777"
      ]
     },
     "execution_count": 8,
     "metadata": {},
     "output_type": "execute_result"
    }
   ],
   "source": [
    "rho_sqd = asianput_cv(rng, s0=100, K=100, T=1, mu=0.01, sigma=0.3, no_of_paths=10000, no_of_steps=100)\n",
    "rho_sqd"
   ]
  },
  {
   "cell_type": "markdown",
   "id": "4f05d4a0",
   "metadata": {},
   "source": [
    "### Part 3\n"
   ]
  },
  {
   "cell_type": "markdown",
   "id": "39ac7ef1",
   "metadata": {},
   "source": [
    "I prefer second method.The second method reduces the variance significantly by 99%, which is almost an degenerated distribution can provide us a numerical result much closer to the analytical result. \n",
    "However, we need to balance the computational burden with the variance reduction. Because this specific control variate is also path dependent, it requires more time to get the results. "
   ]
  },
  {
   "cell_type": "markdown",
   "id": "2284e814",
   "metadata": {},
   "source": [
    "## Solution 4"
   ]
  },
  {
   "cell_type": "markdown",
   "id": "5260ea2a",
   "metadata": {},
   "source": [
    "### Part 1\n",
    "Taking $u(t) = 3e^t - 5t +5$ into the ODE and initial condition, we can find that the equal sign holds,\n",
    "\n",
    "\\begin{align*}\n",
    "\tu^\\prime(t) & = 3e^t - 5 = u(t) + 5t -10\\\\\n",
    "   u(0) & = 8\n",
    "\\end{align*}\n",
    "\n",
    "Therefore, $u(t) = 3e^t - 5t +5$ is a solution for the ODE with the given initial condition."
   ]
  },
  {
   "cell_type": "markdown",
   "id": "a8c23278",
   "metadata": {},
   "source": [
    "### Part 2\n",
    "First we approximate the dirivative using forward scheme\n",
    "\n",
    "\\begin{align*}\n",
    "   u^\\prime (t) = \\frac{u(t+\\Delta t)-u(t)}{\\Delta t} + O(\\Delta t).\n",
    "\\end{align*}\n",
    "\n",
    "Ignore the error term and simplify the notation, we obtain the equation\n",
    "\n",
    "\\begin{align*}\n",
    "   u^\\prime (t) = \\frac{u_{t+1}-u_{t}}{\\Delta t} = u_t + 5t - 10 .\n",
    "\\end{align*}\n",
    "\n",
    "This is equivalent to\n",
    "\n",
    "\\begin{align*}\n",
    "   u^\\prime (t) = \\frac{u_{t+1}-u_{t}}{\\Delta t} = u_t + 5t - 10 .\n",
    "\\end{align*}\n",
    "\n",
    "This expression can be rewritten as\n",
    "\\begin{align*}\n",
    "   u_{t+1} = (1 + \\Delta t)u_t + 5t\\Delta t - 10\\Delta t .\n",
    "\\end{align*}"
   ]
  },
  {
   "cell_type": "code",
   "execution_count": 9,
   "id": "0624a664",
   "metadata": {},
   "outputs": [],
   "source": [
    "def fwd_fds (n,which): \n",
    "    #the argument 'which' means which point in the grid I want to calculate\n",
    "    deltat = 2/n\n",
    "    all = [8]\n",
    "    for l in range(1,which+1):\n",
    "        value = (1 + deltat)*all[l-1]+ 5*(l-1)*deltat*deltat -10*deltat\n",
    "        all.append(value)\n",
    "    return value, all"
   ]
  },
  {
   "cell_type": "markdown",
   "id": "91b64100",
   "metadata": {},
   "source": [
    "### Part 3"
   ]
  },
  {
   "cell_type": "code",
   "execution_count": 10,
   "id": "c4b19336",
   "metadata": {},
   "outputs": [],
   "source": [
    "t = np.linspace(0,2,200)\n",
    "u_analytical = 3*np.exp(t)-5*t+5\n",
    "u_fwd_fds = fwd_fds(200,200)[1]"
   ]
  },
  {
   "cell_type": "code",
   "execution_count": 11,
   "id": "49092619",
   "metadata": {},
   "outputs": [
    {
     "data": {
      "image/png": "[encoded data removed]",
      "text/plain": [
       "<Figure size 432x288 with 1 Axes>"
      ]
     },
     "metadata": {
      "needs_background": "light"
     },
     "output_type": "display_data"
    }
   ],
   "source": [
    "plt.figure()\n",
    "plt.plot(u_fwd_fds, label='FDS approximation',color='blue')\n",
    "plt.plot(u_analytical, label='analytical',color='orange')\n",
    "\n",
    "plt.legend()\n",
    "plt.xlabel('delta t')\n",
    "plt.ylabel('value')\n",
    "plt.title('comparison')\n",
    "plt.grid(True)"
   ]
  },
  {
   "cell_type": "markdown",
   "id": "1457a4bc",
   "metadata": {},
   "source": [
    "From the picture we can see that two line almost coincide. Particularly, the two lines coincide perfectly at the beginning, which means the approximation result is very accurate with the analytical result. With the increasing of the steps, however, the difference become larger, which means the difference between approximation result and the true analytical result is larger, the approximation result is less accurate in the later half of the process.\n",
    "\n",
    "Therefore, we can find that if we use finite difference scheme to approximate the solution of PDE or ODE, the result is much more accurate at the beginning. With the increment of the steps, the approximation error accumulates, which results in larger error in the later half of the process. \n",
    "\n",
    "We should pay attention to the error and minimize it by extending the length approximation window or inceasing the steps in the window, which will be discussed next.\n",
    "\n"
   ]
  },
  {
   "cell_type": "markdown",
   "id": "ec7057cd",
   "metadata": {},
   "source": [
    "### Part 4\n",
    "Becasue $\\frac{1.77}{2}=\\frac{177}{200}$, and the only common factor of 177 and 200 is 1, to make sure that 1.77 is on the exact grid point, n should be multiples of 200, ie: 200, 400, 600, ... . First, we calculate the true value of $u(1.77)$."
   ]
  },
  {
   "cell_type": "code",
   "execution_count": 12,
   "id": "a5b59c86",
   "metadata": {},
   "outputs": [
    {
     "name": "stdout",
     "output_type": "stream",
     "text": [
      "The analytical value of u(1.77) is : 13.762560084147806\n"
     ]
    }
   ],
   "source": [
    "true_u = 3*np.exp(1.77)-5*1.77+5\n",
    "print('The analytical value of u(1.77) is :',true_u)"
   ]
  },
  {
   "cell_type": "markdown",
   "id": "1777172c",
   "metadata": {},
   "source": [
    "Then we guess that the larger the n is, the smaller the difference between $u(1.77)$ and $\\hat u(1.77)$ should be. To verify the guess, we plot the difference with n."
   ]
  },
  {
   "cell_type": "code",
   "execution_count": 13,
   "id": "9efc2f27",
   "metadata": {},
   "outputs": [
    {
     "data": {
      "image/png": "[encoded data removed]",
      "text/plain": [
       "<Figure size 432x288 with 1 Axes>"
      ]
     },
     "metadata": {
      "needs_background": "light"
     },
     "output_type": "display_data"
    }
   ],
   "source": [
    "t = np.linspace(200, 5000, 25)\n",
    "diffs = np.zeros(25)\n",
    "for i in range(25):\n",
    "    which = int(t[i]*1.77/2)\n",
    "    u_hat = fwd_fds(t[i],which)[0]\n",
    "    diffs[i] = abs(u_hat - true_u)\n",
    "    \n",
    "plt.figure()\n",
    "plt.plot(diffs)\n",
    "plt.xlabel('n')\n",
    "plt.ylabel('differences')\n",
    "plt.title('Relationship of difference and n')\n",
    "plt.grid(True)"
   ]
  },
  {
   "cell_type": "markdown",
   "id": "6f864066",
   "metadata": {},
   "source": [
    "The picture verifies our guess. Therefore, we use while loop in python to find the smallest n that makes $\\lvert u(1.77) − \\hat u(1.77)\\rvert ≤ 0.001$"
   ]
  },
  {
   "cell_type": "code",
   "execution_count": 14,
   "id": "99648d7b",
   "metadata": {},
   "outputs": [
    {
     "name": "stdout",
     "output_type": "stream",
     "text": [
      "The smallest n is:  31200\n",
      "The difference is:  0.0009991030334006723\n"
     ]
    }
   ],
   "source": [
    "true_u = 3*np.exp(1.77)-5*1.77+5\n",
    "n=200\n",
    "which = int(n*1.77/2)\n",
    "u_hat = fwd_fds(n,which)[0]\n",
    "diff = abs(u_hat - true_u)\n",
    "while diff > 0.001:\n",
    "    n += 200\n",
    "    which = int(n*1.77/2)\n",
    "    u_hat = fwd_fds(n,which)[0]\n",
    "    diff = abs(u_hat - true_u)\n",
    "print('The smallest n is: ', n)\n",
    "print('The difference is: ',diff)"
   ]
  },
  {
   "cell_type": "markdown",
   "id": "b259abc4",
   "metadata": {},
   "source": [
    "Therefore, for any $n \\geq 31200$, $|u(1.77) − \\hat u_n(1.77)| \\leq 0.001$."
   ]
  }
 ],
 "metadata": {
  "kernelspec": {
   "display_name": "Python 3 (ipykernel)",
   "language": "python",
   "name": "python3"
  },
  "language_info": {
   "codemirror_mode": {
    "name": "ipython",
    "version": 3
   },
   "file_extension": ".py",
   "mimetype": "text/x-python",
   "name": "python",
   "nbconvert_exporter": "python",
   "pygments_lexer": "ipython3",
   "version": "3.9.7"
  }
 },
 "nbformat": 4,
 "nbformat_minor": 5
}
